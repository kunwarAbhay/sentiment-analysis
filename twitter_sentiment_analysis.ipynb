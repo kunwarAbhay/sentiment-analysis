{
  "metadata": {
    "kernelspec": {
      "language": "python",
      "display_name": "Python 3",
      "name": "python3"
    },
    "language_info": {
      "pygments_lexer": "ipython3",
      "nbconvert_exporter": "python",
      "version": "3.6.4",
      "file_extension": ".py",
      "codemirror_mode": {
        "name": "ipython",
        "version": 3
      },
      "name": "python",
      "mimetype": "text/x-python"
    },
    "kaggle": {
      "accelerator": "none",
      "dataSources": [
        {
          "sourceId": 2510329,
          "sourceType": "datasetVersion",
          "datasetId": 1520310
        }
      ],
      "dockerImageVersionId": 30301,
      "isInternetEnabled": false,
      "language": "python",
      "sourceType": "notebook",
      "isGpuEnabled": false
    },
    "colab": {
      "provenance": [],
      "include_colab_link": true
    }
  },
  "nbformat_minor": 0,
  "nbformat": 4,
  "cells": [
    {
      "cell_type": "markdown",
      "metadata": {
        "id": "view-in-github",
        "colab_type": "text"
      },
      "source": [
        "<a href=\"https://colab.research.google.com/github/kunwarAbhay/sentiment-analysis/blob/main/twitter_sentiment_analysis.ipynb\" target=\"_parent\"><img src=\"https://colab.research.google.com/assets/colab-badge.svg\" alt=\"Open In Colab\"/></a>"
      ]
    },
    {
      "cell_type": "markdown",
      "source": [
        "# Importing libraries"
      ],
      "metadata": {
        "id": "qyxDWVPz8Gem"
      }
    },
    {
      "cell_type": "code",
      "source": [
        "import numpy as np\n",
        "import pandas as pd\n",
        "from matplotlib import pyplot as plt\n",
        "import nltk\n",
        "import re\n",
        "from nltk.tokenize import word_tokenize\n",
        "from nltk.corpus import stopwords\n",
        "from nltk.stem.porter import PorterStemmer\n",
        "from keras.preprocessing.text import Tokenizer\n",
        "from tensorflow.keras.preprocessing.sequence import pad_sequences\n",
        "from sklearn.model_selection import train_test_split\n",
        "from keras.models import Sequential\n",
        "from keras.layers import Dense, Dropout, Embedding, LSTM, GlobalMaxPooling1D, SpatialDropout1D"
      ],
      "metadata": {
        "execution": {
          "iopub.execute_input": "2022-11-04T08:49:24.442281Z",
          "iopub.status.busy": "2022-11-04T08:49:24.441354Z",
          "iopub.status.idle": "2022-11-04T08:49:24.450633Z",
          "shell.execute_reply": "2022-11-04T08:49:24.449535Z",
          "shell.execute_reply.started": "2022-11-04T08:49:24.442229Z"
        },
        "id": "HhwBDkIc-13u"
      },
      "execution_count": 1,
      "outputs": []
    },
    {
      "cell_type": "markdown",
      "source": [
        "# Data Exploring"
      ],
      "metadata": {
        "id": "ZJUdHqGJ8NOm"
      }
    },
    {
      "cell_type": "code",
      "source": [
        "data=pd.read_csv('twitter_training.csv', sep=',', names=['Tweet_ID','Entity','Sentiment','Tweet_content'])"
      ],
      "metadata": {
        "execution": {
          "iopub.execute_input": "2022-11-04T08:49:24.46861Z",
          "iopub.status.busy": "2022-11-04T08:49:24.468317Z",
          "iopub.status.idle": "2022-11-04T08:49:24.628462Z",
          "shell.execute_reply": "2022-11-04T08:49:24.627372Z",
          "shell.execute_reply.started": "2022-11-04T08:49:24.468583Z"
        },
        "id": "5LkjgDEF-13w"
      },
      "execution_count": 6,
      "outputs": []
    },
    {
      "cell_type": "code",
      "source": [
        "data.shape"
      ],
      "metadata": {
        "execution": {
          "iopub.execute_input": "2022-11-04T08:49:24.630944Z",
          "iopub.status.busy": "2022-11-04T08:49:24.630566Z",
          "iopub.status.idle": "2022-11-04T08:49:24.638591Z",
          "shell.execute_reply": "2022-11-04T08:49:24.636569Z",
          "shell.execute_reply.started": "2022-11-04T08:49:24.630904Z"
        },
        "id": "jeVC9S51-13x",
        "outputId": "663c02e2-09a2-4810-f897-5f5d1da54964",
        "colab": {
          "base_uri": "https://localhost:8080/"
        }
      },
      "execution_count": 7,
      "outputs": [
        {
          "output_type": "execute_result",
          "data": {
            "text/plain": [
              "(74682, 4)"
            ]
          },
          "metadata": {},
          "execution_count": 7
        }
      ]
    },
    {
      "cell_type": "code",
      "source": [
        "data.head()"
      ],
      "metadata": {
        "execution": {
          "iopub.execute_input": "2022-11-04T08:49:24.64131Z",
          "iopub.status.busy": "2022-11-04T08:49:24.640236Z",
          "iopub.status.idle": "2022-11-04T08:49:24.653904Z",
          "shell.execute_reply": "2022-11-04T08:49:24.652885Z",
          "shell.execute_reply.started": "2022-11-04T08:49:24.641245Z"
        },
        "id": "J35hICnd-13y",
        "outputId": "7a77d607-8b76-4881-f6ce-f54c3957ab5f",
        "colab": {
          "base_uri": "https://localhost:8080/",
          "height": 206
        }
      },
      "execution_count": 8,
      "outputs": [
        {
          "output_type": "execute_result",
          "data": {
            "text/plain": [
              "   Tweet_ID       Entity Sentiment  \\\n",
              "0      2401  Borderlands  Positive   \n",
              "1      2401  Borderlands  Positive   \n",
              "2      2401  Borderlands  Positive   \n",
              "3      2401  Borderlands  Positive   \n",
              "4      2401  Borderlands  Positive   \n",
              "\n",
              "                                       Tweet_content  \n",
              "0  im getting on borderlands and i will murder yo...  \n",
              "1  I am coming to the borders and I will kill you...  \n",
              "2  im getting on borderlands and i will kill you ...  \n",
              "3  im coming on borderlands and i will murder you...  \n",
              "4  im getting on borderlands 2 and i will murder ...  "
            ],
            "text/html": [
              "\n",
              "  <div id=\"df-b45ecb9d-c6d1-40ac-a090-bc596e77623f\" class=\"colab-df-container\">\n",
              "    <div>\n",
              "<style scoped>\n",
              "    .dataframe tbody tr th:only-of-type {\n",
              "        vertical-align: middle;\n",
              "    }\n",
              "\n",
              "    .dataframe tbody tr th {\n",
              "        vertical-align: top;\n",
              "    }\n",
              "\n",
              "    .dataframe thead th {\n",
              "        text-align: right;\n",
              "    }\n",
              "</style>\n",
              "<table border=\"1\" class=\"dataframe\">\n",
              "  <thead>\n",
              "    <tr style=\"text-align: right;\">\n",
              "      <th></th>\n",
              "      <th>Tweet_ID</th>\n",
              "      <th>Entity</th>\n",
              "      <th>Sentiment</th>\n",
              "      <th>Tweet_content</th>\n",
              "    </tr>\n",
              "  </thead>\n",
              "  <tbody>\n",
              "    <tr>\n",
              "      <th>0</th>\n",
              "      <td>2401</td>\n",
              "      <td>Borderlands</td>\n",
              "      <td>Positive</td>\n",
              "      <td>im getting on borderlands and i will murder yo...</td>\n",
              "    </tr>\n",
              "    <tr>\n",
              "      <th>1</th>\n",
              "      <td>2401</td>\n",
              "      <td>Borderlands</td>\n",
              "      <td>Positive</td>\n",
              "      <td>I am coming to the borders and I will kill you...</td>\n",
              "    </tr>\n",
              "    <tr>\n",
              "      <th>2</th>\n",
              "      <td>2401</td>\n",
              "      <td>Borderlands</td>\n",
              "      <td>Positive</td>\n",
              "      <td>im getting on borderlands and i will kill you ...</td>\n",
              "    </tr>\n",
              "    <tr>\n",
              "      <th>3</th>\n",
              "      <td>2401</td>\n",
              "      <td>Borderlands</td>\n",
              "      <td>Positive</td>\n",
              "      <td>im coming on borderlands and i will murder you...</td>\n",
              "    </tr>\n",
              "    <tr>\n",
              "      <th>4</th>\n",
              "      <td>2401</td>\n",
              "      <td>Borderlands</td>\n",
              "      <td>Positive</td>\n",
              "      <td>im getting on borderlands 2 and i will murder ...</td>\n",
              "    </tr>\n",
              "  </tbody>\n",
              "</table>\n",
              "</div>\n",
              "    <div class=\"colab-df-buttons\">\n",
              "\n",
              "  <div class=\"colab-df-container\">\n",
              "    <button class=\"colab-df-convert\" onclick=\"convertToInteractive('df-b45ecb9d-c6d1-40ac-a090-bc596e77623f')\"\n",
              "            title=\"Convert this dataframe to an interactive table.\"\n",
              "            style=\"display:none;\">\n",
              "\n",
              "  <svg xmlns=\"http://www.w3.org/2000/svg\" height=\"24px\" viewBox=\"0 -960 960 960\">\n",
              "    <path d=\"M120-120v-720h720v720H120Zm60-500h600v-160H180v160Zm220 220h160v-160H400v160Zm0 220h160v-160H400v160ZM180-400h160v-160H180v160Zm440 0h160v-160H620v160ZM180-180h160v-160H180v160Zm440 0h160v-160H620v160Z\"/>\n",
              "  </svg>\n",
              "    </button>\n",
              "\n",
              "  <style>\n",
              "    .colab-df-container {\n",
              "      display:flex;\n",
              "      gap: 12px;\n",
              "    }\n",
              "\n",
              "    .colab-df-convert {\n",
              "      background-color: #E8F0FE;\n",
              "      border: none;\n",
              "      border-radius: 50%;\n",
              "      cursor: pointer;\n",
              "      display: none;\n",
              "      fill: #1967D2;\n",
              "      height: 32px;\n",
              "      padding: 0 0 0 0;\n",
              "      width: 32px;\n",
              "    }\n",
              "\n",
              "    .colab-df-convert:hover {\n",
              "      background-color: #E2EBFA;\n",
              "      box-shadow: 0px 1px 2px rgba(60, 64, 67, 0.3), 0px 1px 3px 1px rgba(60, 64, 67, 0.15);\n",
              "      fill: #174EA6;\n",
              "    }\n",
              "\n",
              "    .colab-df-buttons div {\n",
              "      margin-bottom: 4px;\n",
              "    }\n",
              "\n",
              "    [theme=dark] .colab-df-convert {\n",
              "      background-color: #3B4455;\n",
              "      fill: #D2E3FC;\n",
              "    }\n",
              "\n",
              "    [theme=dark] .colab-df-convert:hover {\n",
              "      background-color: #434B5C;\n",
              "      box-shadow: 0px 1px 3px 1px rgba(0, 0, 0, 0.15);\n",
              "      filter: drop-shadow(0px 1px 2px rgba(0, 0, 0, 0.3));\n",
              "      fill: #FFFFFF;\n",
              "    }\n",
              "  </style>\n",
              "\n",
              "    <script>\n",
              "      const buttonEl =\n",
              "        document.querySelector('#df-b45ecb9d-c6d1-40ac-a090-bc596e77623f button.colab-df-convert');\n",
              "      buttonEl.style.display =\n",
              "        google.colab.kernel.accessAllowed ? 'block' : 'none';\n",
              "\n",
              "      async function convertToInteractive(key) {\n",
              "        const element = document.querySelector('#df-b45ecb9d-c6d1-40ac-a090-bc596e77623f');\n",
              "        const dataTable =\n",
              "          await google.colab.kernel.invokeFunction('convertToInteractive',\n",
              "                                                    [key], {});\n",
              "        if (!dataTable) return;\n",
              "\n",
              "        const docLinkHtml = 'Like what you see? Visit the ' +\n",
              "          '<a target=\"_blank\" href=https://colab.research.google.com/notebooks/data_table.ipynb>data table notebook</a>'\n",
              "          + ' to learn more about interactive tables.';\n",
              "        element.innerHTML = '';\n",
              "        dataTable['output_type'] = 'display_data';\n",
              "        await google.colab.output.renderOutput(dataTable, element);\n",
              "        const docLink = document.createElement('div');\n",
              "        docLink.innerHTML = docLinkHtml;\n",
              "        element.appendChild(docLink);\n",
              "      }\n",
              "    </script>\n",
              "  </div>\n",
              "\n",
              "\n",
              "<div id=\"df-17f4dd1e-cf88-4755-843b-ee2c6b9b9858\">\n",
              "  <button class=\"colab-df-quickchart\" onclick=\"quickchart('df-17f4dd1e-cf88-4755-843b-ee2c6b9b9858')\"\n",
              "            title=\"Suggest charts\"\n",
              "            style=\"display:none;\">\n",
              "\n",
              "<svg xmlns=\"http://www.w3.org/2000/svg\" height=\"24px\"viewBox=\"0 0 24 24\"\n",
              "     width=\"24px\">\n",
              "    <g>\n",
              "        <path d=\"M19 3H5c-1.1 0-2 .9-2 2v14c0 1.1.9 2 2 2h14c1.1 0 2-.9 2-2V5c0-1.1-.9-2-2-2zM9 17H7v-7h2v7zm4 0h-2V7h2v10zm4 0h-2v-4h2v4z\"/>\n",
              "    </g>\n",
              "</svg>\n",
              "  </button>\n",
              "\n",
              "<style>\n",
              "  .colab-df-quickchart {\n",
              "      --bg-color: #E8F0FE;\n",
              "      --fill-color: #1967D2;\n",
              "      --hover-bg-color: #E2EBFA;\n",
              "      --hover-fill-color: #174EA6;\n",
              "      --disabled-fill-color: #AAA;\n",
              "      --disabled-bg-color: #DDD;\n",
              "  }\n",
              "\n",
              "  [theme=dark] .colab-df-quickchart {\n",
              "      --bg-color: #3B4455;\n",
              "      --fill-color: #D2E3FC;\n",
              "      --hover-bg-color: #434B5C;\n",
              "      --hover-fill-color: #FFFFFF;\n",
              "      --disabled-bg-color: #3B4455;\n",
              "      --disabled-fill-color: #666;\n",
              "  }\n",
              "\n",
              "  .colab-df-quickchart {\n",
              "    background-color: var(--bg-color);\n",
              "    border: none;\n",
              "    border-radius: 50%;\n",
              "    cursor: pointer;\n",
              "    display: none;\n",
              "    fill: var(--fill-color);\n",
              "    height: 32px;\n",
              "    padding: 0;\n",
              "    width: 32px;\n",
              "  }\n",
              "\n",
              "  .colab-df-quickchart:hover {\n",
              "    background-color: var(--hover-bg-color);\n",
              "    box-shadow: 0 1px 2px rgba(60, 64, 67, 0.3), 0 1px 3px 1px rgba(60, 64, 67, 0.15);\n",
              "    fill: var(--button-hover-fill-color);\n",
              "  }\n",
              "\n",
              "  .colab-df-quickchart-complete:disabled,\n",
              "  .colab-df-quickchart-complete:disabled:hover {\n",
              "    background-color: var(--disabled-bg-color);\n",
              "    fill: var(--disabled-fill-color);\n",
              "    box-shadow: none;\n",
              "  }\n",
              "\n",
              "  .colab-df-spinner {\n",
              "    border: 2px solid var(--fill-color);\n",
              "    border-color: transparent;\n",
              "    border-bottom-color: var(--fill-color);\n",
              "    animation:\n",
              "      spin 1s steps(1) infinite;\n",
              "  }\n",
              "\n",
              "  @keyframes spin {\n",
              "    0% {\n",
              "      border-color: transparent;\n",
              "      border-bottom-color: var(--fill-color);\n",
              "      border-left-color: var(--fill-color);\n",
              "    }\n",
              "    20% {\n",
              "      border-color: transparent;\n",
              "      border-left-color: var(--fill-color);\n",
              "      border-top-color: var(--fill-color);\n",
              "    }\n",
              "    30% {\n",
              "      border-color: transparent;\n",
              "      border-left-color: var(--fill-color);\n",
              "      border-top-color: var(--fill-color);\n",
              "      border-right-color: var(--fill-color);\n",
              "    }\n",
              "    40% {\n",
              "      border-color: transparent;\n",
              "      border-right-color: var(--fill-color);\n",
              "      border-top-color: var(--fill-color);\n",
              "    }\n",
              "    60% {\n",
              "      border-color: transparent;\n",
              "      border-right-color: var(--fill-color);\n",
              "    }\n",
              "    80% {\n",
              "      border-color: transparent;\n",
              "      border-right-color: var(--fill-color);\n",
              "      border-bottom-color: var(--fill-color);\n",
              "    }\n",
              "    90% {\n",
              "      border-color: transparent;\n",
              "      border-bottom-color: var(--fill-color);\n",
              "    }\n",
              "  }\n",
              "</style>\n",
              "\n",
              "  <script>\n",
              "    async function quickchart(key) {\n",
              "      const quickchartButtonEl =\n",
              "        document.querySelector('#' + key + ' button');\n",
              "      quickchartButtonEl.disabled = true;  // To prevent multiple clicks.\n",
              "      quickchartButtonEl.classList.add('colab-df-spinner');\n",
              "      try {\n",
              "        const charts = await google.colab.kernel.invokeFunction(\n",
              "            'suggestCharts', [key], {});\n",
              "      } catch (error) {\n",
              "        console.error('Error during call to suggestCharts:', error);\n",
              "      }\n",
              "      quickchartButtonEl.classList.remove('colab-df-spinner');\n",
              "      quickchartButtonEl.classList.add('colab-df-quickchart-complete');\n",
              "    }\n",
              "    (() => {\n",
              "      let quickchartButtonEl =\n",
              "        document.querySelector('#df-17f4dd1e-cf88-4755-843b-ee2c6b9b9858 button');\n",
              "      quickchartButtonEl.style.display =\n",
              "        google.colab.kernel.accessAllowed ? 'block' : 'none';\n",
              "    })();\n",
              "  </script>\n",
              "</div>\n",
              "    </div>\n",
              "  </div>\n"
            ]
          },
          "metadata": {},
          "execution_count": 8
        }
      ]
    },
    {
      "cell_type": "code",
      "source": [
        "data.Entity.unique()"
      ],
      "metadata": {
        "execution": {
          "iopub.execute_input": "2022-11-04T08:49:24.657179Z",
          "iopub.status.busy": "2022-11-04T08:49:24.656341Z",
          "iopub.status.idle": "2022-11-04T08:49:24.672896Z",
          "shell.execute_reply": "2022-11-04T08:49:24.67183Z",
          "shell.execute_reply.started": "2022-11-04T08:49:24.657114Z"
        },
        "id": "S5T_QN7H-13z",
        "outputId": "c8986085-413b-4ff3-f61c-164395e69035",
        "colab": {
          "base_uri": "https://localhost:8080/"
        }
      },
      "execution_count": 9,
      "outputs": [
        {
          "output_type": "execute_result",
          "data": {
            "text/plain": [
              "array(['Borderlands', 'CallOfDutyBlackopsColdWar', 'Amazon', 'Overwatch',\n",
              "       'Xbox(Xseries)', 'NBA2K', 'Dota2', 'PlayStation5(PS5)',\n",
              "       'WorldOfCraft', 'CS-GO', 'Google', 'AssassinsCreed', 'ApexLegends',\n",
              "       'LeagueOfLegends', 'Fortnite', 'Microsoft', 'Hearthstone',\n",
              "       'Battlefield', 'PlayerUnknownsBattlegrounds(PUBG)', 'Verizon',\n",
              "       'HomeDepot', 'FIFA', 'RedDeadRedemption(RDR)', 'CallOfDuty',\n",
              "       'TomClancysRainbowSix', 'Facebook', 'GrandTheftAuto(GTA)',\n",
              "       'MaddenNFL', 'johnson&johnson', 'Cyberpunk2077',\n",
              "       'TomClancysGhostRecon', 'Nvidia'], dtype=object)"
            ]
          },
          "metadata": {},
          "execution_count": 9
        }
      ]
    },
    {
      "cell_type": "code",
      "source": [
        "plt.pie(data.Sentiment.value_counts()\n",
        ",labels=['Negative','Positive','Neutral','Irrelevant'],autopct='%1.1f%%',startangle=90)"
      ],
      "metadata": {
        "execution": {
          "iopub.execute_input": "2022-11-04T08:49:24.674737Z",
          "iopub.status.busy": "2022-11-04T08:49:24.674335Z",
          "iopub.status.idle": "2022-11-04T08:49:24.790768Z",
          "shell.execute_reply": "2022-11-04T08:49:24.789451Z",
          "shell.execute_reply.started": "2022-11-04T08:49:24.6747Z"
        },
        "id": "XqqfcLxC-130",
        "outputId": "ebd6dea6-6938-4306-e5a7-121b3e21aea5",
        "colab": {
          "base_uri": "https://localhost:8080/",
          "height": 614
        }
      },
      "execution_count": 10,
      "outputs": [
        {
          "output_type": "execute_result",
          "data": {
            "text/plain": [
              "([<matplotlib.patches.Wedge at 0x79f2e568ea40>,\n",
              "  <matplotlib.patches.Wedge at 0x79f2e568e950>,\n",
              "  <matplotlib.patches.Wedge at 0x79f2e568f730>,\n",
              "  <matplotlib.patches.Wedge at 0x79f2e568fdc0>],\n",
              " [Text(-0.8936408809046303, 0.6414093669225578, 'Negative'),\n",
              "  Text(-0.39649770564254117, -1.0260553442286633, 'Positive'),\n",
              "  Text(1.0532293937999033, -0.3173449921392938, 'Neutral'),\n",
              "  Text(0.5716146417662045, 0.9398173765782871, 'Irrelevant')],\n",
              " [Text(-0.4874404804934347, 0.3498596546850315, '30.2%'),\n",
              "  Text(-0.21627147580502246, -0.5596665513974527, '27.9%'),\n",
              "  Text(0.5744887602544927, -0.17309726843961476, '24.5%'),\n",
              "  Text(0.31178980459974787, 0.5126276599517929, '17.4%')])"
            ]
          },
          "metadata": {},
          "execution_count": 10
        },
        {
          "output_type": "display_data",
          "data": {
            "text/plain": [
              "<Figure size 640x480 with 1 Axes>"
            ],
            "image/png": "[encoded data removed]"
          },
          "metadata": {}
        }
      ]
    },
    {
      "cell_type": "code",
      "source": [
        "data.Sentiment.value_counts()"
      ],
      "metadata": {
        "execution": {
          "iopub.execute_input": "2022-11-04T08:49:24.793088Z",
          "iopub.status.busy": "2022-11-04T08:49:24.792401Z",
          "iopub.status.idle": "2022-11-04T08:49:24.808714Z",
          "shell.execute_reply": "2022-11-04T08:49:24.807564Z",
          "shell.execute_reply.started": "2022-11-04T08:49:24.793047Z"
        },
        "id": "KHetdbbm-130",
        "outputId": "8fabf11d-bde7-4545-cb69-16994895f2f1",
        "colab": {
          "base_uri": "https://localhost:8080/"
        }
      },
      "execution_count": 11,
      "outputs": [
        {
          "output_type": "execute_result",
          "data": {
            "text/plain": [
              "Negative      22542\n",
              "Positive      20832\n",
              "Neutral       18318\n",
              "Irrelevant    12990\n",
              "Name: Sentiment, dtype: int64"
            ]
          },
          "metadata": {},
          "execution_count": 11
        }
      ]
    },
    {
      "cell_type": "markdown",
      "source": [
        "# Data Cleaning"
      ],
      "metadata": {
        "id": "jg9G-4A78VNt"
      }
    },
    {
      "cell_type": "markdown",
      "source": [
        "**Drop dublicated data**"
      ],
      "metadata": {
        "id": "_3jymj1Z8bWX"
      }
    },
    {
      "cell_type": "code",
      "source": [
        "data.duplicated().sum()"
      ],
      "metadata": {
        "execution": {
          "iopub.execute_input": "2022-11-04T08:49:24.812235Z",
          "iopub.status.busy": "2022-11-04T08:49:24.811557Z",
          "iopub.status.idle": "2022-11-04T08:49:24.896729Z",
          "shell.execute_reply": "2022-11-04T08:49:24.895792Z",
          "shell.execute_reply.started": "2022-11-04T08:49:24.812196Z"
        },
        "id": "l5I2nQwx-131",
        "outputId": "2cce1b14-527d-4eb5-98b7-d2dd4722cae0",
        "colab": {
          "base_uri": "https://localhost:8080/"
        }
      },
      "execution_count": 12,
      "outputs": [
        {
          "output_type": "execute_result",
          "data": {
            "text/plain": [
              "2700"
            ]
          },
          "metadata": {},
          "execution_count": 12
        }
      ]
    },
    {
      "cell_type": "code",
      "source": [
        "data.drop_duplicates(inplace=True)"
      ],
      "metadata": {
        "execution": {
          "iopub.execute_input": "2022-11-04T08:49:24.898639Z",
          "iopub.status.busy": "2022-11-04T08:49:24.898248Z",
          "iopub.status.idle": "2022-11-04T08:49:24.93526Z",
          "shell.execute_reply": "2022-11-04T08:49:24.934306Z",
          "shell.execute_reply.started": "2022-11-04T08:49:24.898601Z"
        },
        "id": "5Qhqeg9P-132"
      },
      "execution_count": 14,
      "outputs": []
    },
    {
      "cell_type": "code",
      "source": [
        "data.duplicated().sum()"
      ],
      "metadata": {
        "execution": {
          "iopub.execute_input": "2022-11-04T08:49:24.93931Z",
          "iopub.status.busy": "2022-11-04T08:49:24.939029Z",
          "iopub.status.idle": "2022-11-04T08:49:24.972601Z",
          "shell.execute_reply": "2022-11-04T08:49:24.97146Z",
          "shell.execute_reply.started": "2022-11-04T08:49:24.939282Z"
        },
        "id": "pYznhM77-133",
        "outputId": "a7999aff-466a-47a8-8889-5fee55d2f141",
        "colab": {
          "base_uri": "https://localhost:8080/"
        }
      },
      "execution_count": 13,
      "outputs": [
        {
          "output_type": "execute_result",
          "data": {
            "text/plain": [
              "2700"
            ]
          },
          "metadata": {},
          "execution_count": 13
        }
      ]
    },
    {
      "cell_type": "markdown",
      "source": [
        "**Drop Nulls**"
      ],
      "metadata": {
        "id": "PQlKd7Dx8kHe"
      }
    },
    {
      "cell_type": "code",
      "source": [
        "data.isnull().sum()"
      ],
      "metadata": {
        "execution": {
          "iopub.execute_input": "2022-11-04T08:49:24.97458Z",
          "iopub.status.busy": "2022-11-04T08:49:24.974116Z",
          "iopub.status.idle": "2022-11-04T08:49:24.992348Z",
          "shell.execute_reply": "2022-11-04T08:49:24.991201Z",
          "shell.execute_reply.started": "2022-11-04T08:49:24.974543Z"
        },
        "id": "1mEgUAD2-134",
        "outputId": "64128bf4-3092-4430-9d27-88a6d1e0d0e9",
        "colab": {
          "base_uri": "https://localhost:8080/"
        }
      },
      "execution_count": 15,
      "outputs": [
        {
          "output_type": "execute_result",
          "data": {
            "text/plain": [
              "Tweet_ID           0\n",
              "Entity             0\n",
              "Sentiment          0\n",
              "Tweet_content    326\n",
              "dtype: int64"
            ]
          },
          "metadata": {},
          "execution_count": 15
        }
      ]
    },
    {
      "cell_type": "code",
      "source": [
        "data.dropna(axis=0, inplace=True)"
      ],
      "metadata": {
        "execution": {
          "iopub.execute_input": "2022-11-04T08:49:24.996779Z",
          "iopub.status.busy": "2022-11-04T08:49:24.996383Z",
          "iopub.status.idle": "2022-11-04T08:49:25.015614Z",
          "shell.execute_reply": "2022-11-04T08:49:25.014625Z",
          "shell.execute_reply.started": "2022-11-04T08:49:24.996752Z"
        },
        "id": "0iogjwtz-134"
      },
      "execution_count": 16,
      "outputs": []
    },
    {
      "cell_type": "code",
      "source": [
        "data.isnull().sum()"
      ],
      "metadata": {
        "execution": {
          "iopub.execute_input": "2022-11-04T08:49:25.019249Z",
          "iopub.status.busy": "2022-11-04T08:49:25.018909Z",
          "iopub.status.idle": "2022-11-04T08:49:25.035937Z",
          "shell.execute_reply": "2022-11-04T08:49:25.03476Z",
          "shell.execute_reply.started": "2022-11-04T08:49:25.019221Z"
        },
        "id": "5aZhuvu5-135",
        "outputId": "585f585e-75a3-4fce-8c0c-20d5652582a1",
        "colab": {
          "base_uri": "https://localhost:8080/"
        }
      },
      "execution_count": 17,
      "outputs": [
        {
          "output_type": "execute_result",
          "data": {
            "text/plain": [
              "Tweet_ID         0\n",
              "Entity           0\n",
              "Sentiment        0\n",
              "Tweet_content    0\n",
              "dtype: int64"
            ]
          },
          "metadata": {},
          "execution_count": 17
        }
      ]
    },
    {
      "cell_type": "code",
      "source": [
        "data.reset_index(inplace=True)\n"
      ],
      "metadata": {
        "execution": {
          "iopub.execute_input": "2022-11-04T08:49:25.038108Z",
          "iopub.status.busy": "2022-11-04T08:49:25.037759Z",
          "iopub.status.idle": "2022-11-04T08:49:25.044189Z",
          "shell.execute_reply": "2022-11-04T08:49:25.043274Z",
          "shell.execute_reply.started": "2022-11-04T08:49:25.038073Z"
        },
        "id": "fm7RNHgo-135"
      },
      "execution_count": 18,
      "outputs": []
    },
    {
      "cell_type": "code",
      "source": [
        "data.shape"
      ],
      "metadata": {
        "execution": {
          "iopub.execute_input": "2022-11-04T08:49:25.046391Z",
          "iopub.status.busy": "2022-11-04T08:49:25.045449Z",
          "iopub.status.idle": "2022-11-04T08:49:25.055154Z",
          "shell.execute_reply": "2022-11-04T08:49:25.054168Z",
          "shell.execute_reply.started": "2022-11-04T08:49:25.046356Z"
        },
        "id": "MaZV3ern-136",
        "outputId": "0fb964d7-47c3-4573-9abb-06ada9152986",
        "colab": {
          "base_uri": "https://localhost:8080/"
        }
      },
      "execution_count": 19,
      "outputs": [
        {
          "output_type": "execute_result",
          "data": {
            "text/plain": [
              "(71656, 5)"
            ]
          },
          "metadata": {},
          "execution_count": 19
        }
      ]
    },
    {
      "cell_type": "markdown",
      "source": [
        "# Text Preprocessing"
      ],
      "metadata": {
        "id": "tL4d6s2g8tyF"
      }
    },
    {
      "cell_type": "code",
      "source": [
        "data.head()"
      ],
      "metadata": {
        "execution": {
          "iopub.execute_input": "2022-11-04T08:49:25.057704Z",
          "iopub.status.busy": "2022-11-04T08:49:25.056606Z",
          "iopub.status.idle": "2022-11-04T08:49:25.070324Z",
          "shell.execute_reply": "2022-11-04T08:49:25.069214Z",
          "shell.execute_reply.started": "2022-11-04T08:49:25.057661Z"
        },
        "id": "p_pSeNLP-137",
        "outputId": "fa934a4f-64d6-45db-90bc-8279dbf1b07e",
        "colab": {
          "base_uri": "https://localhost:8080/",
          "height": 206
        }
      },
      "execution_count": 20,
      "outputs": [
        {
          "output_type": "execute_result",
          "data": {
            "text/plain": [
              "   index  Tweet_ID       Entity Sentiment  \\\n",
              "0      0      2401  Borderlands  Positive   \n",
              "1      1      2401  Borderlands  Positive   \n",
              "2      2      2401  Borderlands  Positive   \n",
              "3      3      2401  Borderlands  Positive   \n",
              "4      4      2401  Borderlands  Positive   \n",
              "\n",
              "                                       Tweet_content  \n",
              "0  im getting on borderlands and i will murder yo...  \n",
              "1  I am coming to the borders and I will kill you...  \n",
              "2  im getting on borderlands and i will kill you ...  \n",
              "3  im coming on borderlands and i will murder you...  \n",
              "4  im getting on borderlands 2 and i will murder ...  "
            ],
            "text/html": [
              "\n",
              "  <div id=\"df-f6700c66-2731-4854-b99e-773ad12047a6\" class=\"colab-df-container\">\n",
              "    <div>\n",
              "<style scoped>\n",
              "    .dataframe tbody tr th:only-of-type {\n",
              "        vertical-align: middle;\n",
              "    }\n",
              "\n",
              "    .dataframe tbody tr th {\n",
              "        vertical-align: top;\n",
              "    }\n",
              "\n",
              "    .dataframe thead th {\n",
              "        text-align: right;\n",
              "    }\n",
              "</style>\n",
              "<table border=\"1\" class=\"dataframe\">\n",
              "  <thead>\n",
              "    <tr style=\"text-align: right;\">\n",
              "      <th></th>\n",
              "      <th>index</th>\n",
              "      <th>Tweet_ID</th>\n",
              "      <th>Entity</th>\n",
              "      <th>Sentiment</th>\n",
              "      <th>Tweet_content</th>\n",
              "    </tr>\n",
              "  </thead>\n",
              "  <tbody>\n",
              "    <tr>\n",
              "      <th>0</th>\n",
              "      <td>0</td>\n",
              "      <td>2401</td>\n",
              "      <td>Borderlands</td>\n",
              "      <td>Positive</td>\n",
              "      <td>im getting on borderlands and i will murder yo...</td>\n",
              "    </tr>\n",
              "    <tr>\n",
              "      <th>1</th>\n",
              "      <td>1</td>\n",
              "      <td>2401</td>\n",
              "      <td>Borderlands</td>\n",
              "      <td>Positive</td>\n",
              "      <td>I am coming to the borders and I will kill you...</td>\n",
              "    </tr>\n",
              "    <tr>\n",
              "      <th>2</th>\n",
              "      <td>2</td>\n",
              "      <td>2401</td>\n",
              "      <td>Borderlands</td>\n",
              "      <td>Positive</td>\n",
              "      <td>im getting on borderlands and i will kill you ...</td>\n",
              "    </tr>\n",
              "    <tr>\n",
              "      <th>3</th>\n",
              "      <td>3</td>\n",
              "      <td>2401</td>\n",
              "      <td>Borderlands</td>\n",
              "      <td>Positive</td>\n",
              "      <td>im coming on borderlands and i will murder you...</td>\n",
              "    </tr>\n",
              "    <tr>\n",
              "      <th>4</th>\n",
              "      <td>4</td>\n",
              "      <td>2401</td>\n",
              "      <td>Borderlands</td>\n",
              "      <td>Positive</td>\n",
              "      <td>im getting on borderlands 2 and i will murder ...</td>\n",
              "    </tr>\n",
              "  </tbody>\n",
              "</table>\n",
              "</div>\n",
              "    <div class=\"colab-df-buttons\">\n",
              "\n",
              "  <div class=\"colab-df-container\">\n",
              "    <button class=\"colab-df-convert\" onclick=\"convertToInteractive('df-f6700c66-2731-4854-b99e-773ad12047a6')\"\n",
              "            title=\"Convert this dataframe to an interactive table.\"\n",
              "            style=\"display:none;\">\n",
              "\n",
              "  <svg xmlns=\"http://www.w3.org/2000/svg\" height=\"24px\" viewBox=\"0 -960 960 960\">\n",
              "    <path d=\"M120-120v-720h720v720H120Zm60-500h600v-160H180v160Zm220 220h160v-160H400v160Zm0 220h160v-160H400v160ZM180-400h160v-160H180v160Zm440 0h160v-160H620v160ZM180-180h160v-160H180v160Zm440 0h160v-160H620v160Z\"/>\n",
              "  </svg>\n",
              "    </button>\n",
              "\n",
              "  <style>\n",
              "    .colab-df-container {\n",
              "      display:flex;\n",
              "      gap: 12px;\n",
              "    }\n",
              "\n",
              "    .colab-df-convert {\n",
              "      background-color: #E8F0FE;\n",
              "      border: none;\n",
              "      border-radius: 50%;\n",
              "      cursor: pointer;\n",
              "      display: none;\n",
              "      fill: #1967D2;\n",
              "      height: 32px;\n",
              "      padding: 0 0 0 0;\n",
              "      width: 32px;\n",
              "    }\n",
              "\n",
              "    .colab-df-convert:hover {\n",
              "      background-color: #E2EBFA;\n",
              "      box-shadow: 0px 1px 2px rgba(60, 64, 67, 0.3), 0px 1px 3px 1px rgba(60, 64, 67, 0.15);\n",
              "      fill: #174EA6;\n",
              "    }\n",
              "\n",
              "    .colab-df-buttons div {\n",
              "      margin-bottom: 4px;\n",
              "    }\n",
              "\n",
              "    [theme=dark] .colab-df-convert {\n",
              "      background-color: #3B4455;\n",
              "      fill: #D2E3FC;\n",
              "    }\n",
              "\n",
              "    [theme=dark] .colab-df-convert:hover {\n",
              "      background-color: #434B5C;\n",
              "      box-shadow: 0px 1px 3px 1px rgba(0, 0, 0, 0.15);\n",
              "      filter: drop-shadow(0px 1px 2px rgba(0, 0, 0, 0.3));\n",
              "      fill: #FFFFFF;\n",
              "    }\n",
              "  </style>\n",
              "\n",
              "    <script>\n",
              "      const buttonEl =\n",
              "        document.querySelector('#df-f6700c66-2731-4854-b99e-773ad12047a6 button.colab-df-convert');\n",
              "      buttonEl.style.display =\n",
              "        google.colab.kernel.accessAllowed ? 'block' : 'none';\n",
              "\n",
              "      async function convertToInteractive(key) {\n",
              "        const element = document.querySelector('#df-f6700c66-2731-4854-b99e-773ad12047a6');\n",
              "        const dataTable =\n",
              "          await google.colab.kernel.invokeFunction('convertToInteractive',\n",
              "                                                    [key], {});\n",
              "        if (!dataTable) return;\n",
              "\n",
              "        const docLinkHtml = 'Like what you see? Visit the ' +\n",
              "          '<a target=\"_blank\" href=https://colab.research.google.com/notebooks/data_table.ipynb>data table notebook</a>'\n",
              "          + ' to learn more about interactive tables.';\n",
              "        element.innerHTML = '';\n",
              "        dataTable['output_type'] = 'display_data';\n",
              "        await google.colab.output.renderOutput(dataTable, element);\n",
              "        const docLink = document.createElement('div');\n",
              "        docLink.innerHTML = docLinkHtml;\n",
              "        element.appendChild(docLink);\n",
              "      }\n",
              "    </script>\n",
              "  </div>\n",
              "\n",
              "\n",
              "<div id=\"df-bcf6cb55-08df-4010-9108-2bec34c5f385\">\n",
              "  <button class=\"colab-df-quickchart\" onclick=\"quickchart('df-bcf6cb55-08df-4010-9108-2bec34c5f385')\"\n",
              "            title=\"Suggest charts\"\n",
              "            style=\"display:none;\">\n",
              "\n",
              "<svg xmlns=\"http://www.w3.org/2000/svg\" height=\"24px\"viewBox=\"0 0 24 24\"\n",
              "     width=\"24px\">\n",
              "    <g>\n",
              "        <path d=\"M19 3H5c-1.1 0-2 .9-2 2v14c0 1.1.9 2 2 2h14c1.1 0 2-.9 2-2V5c0-1.1-.9-2-2-2zM9 17H7v-7h2v7zm4 0h-2V7h2v10zm4 0h-2v-4h2v4z\"/>\n",
              "    </g>\n",
              "</svg>\n",
              "  </button>\n",
              "\n",
              "<style>\n",
              "  .colab-df-quickchart {\n",
              "      --bg-color: #E8F0FE;\n",
              "      --fill-color: #1967D2;\n",
              "      --hover-bg-color: #E2EBFA;\n",
              "      --hover-fill-color: #174EA6;\n",
              "      --disabled-fill-color: #AAA;\n",
              "      --disabled-bg-color: #DDD;\n",
              "  }\n",
              "\n",
              "  [theme=dark] .colab-df-quickchart {\n",
              "      --bg-color: #3B4455;\n",
              "      --fill-color: #D2E3FC;\n",
              "      --hover-bg-color: #434B5C;\n",
              "      --hover-fill-color: #FFFFFF;\n",
              "      --disabled-bg-color: #3B4455;\n",
              "      --disabled-fill-color: #666;\n",
              "  }\n",
              "\n",
              "  .colab-df-quickchart {\n",
              "    background-color: var(--bg-color);\n",
              "    border: none;\n",
              "    border-radius: 50%;\n",
              "    cursor: pointer;\n",
              "    display: none;\n",
              "    fill: var(--fill-color);\n",
              "    height: 32px;\n",
              "    padding: 0;\n",
              "    width: 32px;\n",
              "  }\n",
              "\n",
              "  .colab-df-quickchart:hover {\n",
              "    background-color: var(--hover-bg-color);\n",
              "    box-shadow: 0 1px 2px rgba(60, 64, 67, 0.3), 0 1px 3px 1px rgba(60, 64, 67, 0.15);\n",
              "    fill: var(--button-hover-fill-color);\n",
              "  }\n",
              "\n",
              "  .colab-df-quickchart-complete:disabled,\n",
              "  .colab-df-quickchart-complete:disabled:hover {\n",
              "    background-color: var(--disabled-bg-color);\n",
              "    fill: var(--disabled-fill-color);\n",
              "    box-shadow: none;\n",
              "  }\n",
              "\n",
              "  .colab-df-spinner {\n",
              "    border: 2px solid var(--fill-color);\n",
              "    border-color: transparent;\n",
              "    border-bottom-color: var(--fill-color);\n",
              "    animation:\n",
              "      spin 1s steps(1) infinite;\n",
              "  }\n",
              "\n",
              "  @keyframes spin {\n",
              "    0% {\n",
              "      border-color: transparent;\n",
              "      border-bottom-color: var(--fill-color);\n",
              "      border-left-color: var(--fill-color);\n",
              "    }\n",
              "    20% {\n",
              "      border-color: transparent;\n",
              "      border-left-color: var(--fill-color);\n",
              "      border-top-color: var(--fill-color);\n",
              "    }\n",
              "    30% {\n",
              "      border-color: transparent;\n",
              "      border-left-color: var(--fill-color);\n",
              "      border-top-color: var(--fill-color);\n",
              "      border-right-color: var(--fill-color);\n",
              "    }\n",
              "    40% {\n",
              "      border-color: transparent;\n",
              "      border-right-color: var(--fill-color);\n",
              "      border-top-color: var(--fill-color);\n",
              "    }\n",
              "    60% {\n",
              "      border-color: transparent;\n",
              "      border-right-color: var(--fill-color);\n",
              "    }\n",
              "    80% {\n",
              "      border-color: transparent;\n",
              "      border-right-color: var(--fill-color);\n",
              "      border-bottom-color: var(--fill-color);\n",
              "    }\n",
              "    90% {\n",
              "      border-color: transparent;\n",
              "      border-bottom-color: var(--fill-color);\n",
              "    }\n",
              "  }\n",
              "</style>\n",
              "\n",
              "  <script>\n",
              "    async function quickchart(key) {\n",
              "      const quickchartButtonEl =\n",
              "        document.querySelector('#' + key + ' button');\n",
              "      quickchartButtonEl.disabled = true;  // To prevent multiple clicks.\n",
              "      quickchartButtonEl.classList.add('colab-df-spinner');\n",
              "      try {\n",
              "        const charts = await google.colab.kernel.invokeFunction(\n",
              "            'suggestCharts', [key], {});\n",
              "      } catch (error) {\n",
              "        console.error('Error during call to suggestCharts:', error);\n",
              "      }\n",
              "      quickchartButtonEl.classList.remove('colab-df-spinner');\n",
              "      quickchartButtonEl.classList.add('colab-df-quickchart-complete');\n",
              "    }\n",
              "    (() => {\n",
              "      let quickchartButtonEl =\n",
              "        document.querySelector('#df-bcf6cb55-08df-4010-9108-2bec34c5f385 button');\n",
              "      quickchartButtonEl.style.display =\n",
              "        google.colab.kernel.accessAllowed ? 'block' : 'none';\n",
              "    })();\n",
              "  </script>\n",
              "</div>\n",
              "    </div>\n",
              "  </div>\n"
            ]
          },
          "metadata": {},
          "execution_count": 20
        }
      ]
    },
    {
      "cell_type": "code",
      "source": [
        "replace_list = {r\"i'm\": 'i am',\n",
        "                r\"'re\": ' are',\n",
        "                r\"let’s\": 'let us',\n",
        "                r\"'s\":  ' is',\n",
        "                r\"'ve\": ' have',\n",
        "                r\"can't\": 'can not',\n",
        "                r\"cannot\": 'can not',\n",
        "                r\"shan’t\": 'shall not',\n",
        "                r\"n't\": ' not',\n",
        "                r\"'d\": ' would',\n",
        "                r\"'ll\": ' will',\n",
        "                r\"'scuse\": 'excuse',\n",
        "                ',': ' ,',\n",
        "                '.': ' .',\n",
        "                '!': ' !',\n",
        "                '?': ' ?',\n",
        "                '\\s+': ' '}\n",
        "def clean_text(text):\n",
        "    text = text.lower()\n",
        "    for s in replace_list:\n",
        "        text = text.replace(s, replace_list[s])\n",
        "    text = ' '.join(text.split())\n",
        "    return text"
      ],
      "metadata": {
        "execution": {
          "iopub.execute_input": "2022-11-04T08:49:25.07231Z",
          "iopub.status.busy": "2022-11-04T08:49:25.071778Z",
          "iopub.status.idle": "2022-11-04T08:49:25.080539Z",
          "shell.execute_reply": "2022-11-04T08:49:25.079342Z",
          "shell.execute_reply.started": "2022-11-04T08:49:25.072271Z"
        },
        "id": "R8JV1zpD-137"
      },
      "execution_count": 21,
      "outputs": []
    },
    {
      "cell_type": "code",
      "source": [
        "x = data['Tweet_content'].apply(lambda p: clean_text(p))"
      ],
      "metadata": {
        "execution": {
          "iopub.execute_input": "2022-11-04T08:49:25.082822Z",
          "iopub.status.busy": "2022-11-04T08:49:25.082209Z",
          "iopub.status.idle": "2022-11-04T08:49:25.621635Z",
          "shell.execute_reply": "2022-11-04T08:49:25.620645Z",
          "shell.execute_reply.started": "2022-11-04T08:49:25.082786Z"
        },
        "id": "ytIxRlmm-138"
      },
      "execution_count": 22,
      "outputs": []
    },
    {
      "cell_type": "code",
      "source": [
        "x[20]"
      ],
      "metadata": {
        "execution": {
          "iopub.execute_input": "2022-11-04T08:49:25.625912Z",
          "iopub.status.busy": "2022-11-04T08:49:25.625609Z",
          "iopub.status.idle": "2022-11-04T08:49:25.632117Z",
          "shell.execute_reply": "2022-11-04T08:49:25.631177Z",
          "shell.execute_reply.started": "2022-11-04T08:49:25.625884Z"
        },
        "id": "5XFyQDtO-139",
        "outputId": "55525273-1e9e-4c1a-e972-7c9b3f88fd02",
        "colab": {
          "base_uri": "https://localhost:8080/",
          "height": 53
        }
      },
      "execution_count": 23,
      "outputs": [
        {
          "output_type": "execute_result",
          "data": {
            "text/plain": [
              "'that was the first borderlands session in a long time where i actually enjoyed a really satisfying combat experience . i got some rather good kills'"
            ],
            "application/vnd.google.colaboratory.intrinsic+json": {
              "type": "string"
            }
          },
          "metadata": {},
          "execution_count": 23
        }
      ]
    },
    {
      "cell_type": "code",
      "source": [
        "Tweet_content_len = x.apply(lambda p: len(p.split(' ')))\n",
        "max_Tweet_content_len = Tweet_content_len.max()\n",
        "print('max Tweet_content len: {0}'.format(max_Tweet_content_len))\n",
        "plt.figure(figsize = (10, 8))\n",
        "plt.hist(Tweet_content_len, density = True)\n",
        "plt.xlabel('Tweet_content len')\n",
        "plt.ylabel('probability')\n",
        "plt.grid()"
      ],
      "metadata": {
        "execution": {
          "iopub.execute_input": "2022-11-04T08:49:25.634253Z",
          "iopub.status.busy": "2022-11-04T08:49:25.633651Z",
          "iopub.status.idle": "2022-11-04T08:49:25.982897Z",
          "shell.execute_reply": "2022-11-04T08:49:25.981944Z",
          "shell.execute_reply.started": "2022-11-04T08:49:25.634216Z"
        },
        "id": "NQvbGx0C-139",
        "outputId": "77ac034c-82e7-40a1-b2e8-638b50270378",
        "colab": {
          "base_uri": "https://localhost:8080/",
          "height": 715
        }
      },
      "execution_count": 24,
      "outputs": [
        {
          "output_type": "stream",
          "name": "stdout",
          "text": [
            "max Tweet_content len: 311\n"
          ]
        },
        {
          "output_type": "display_data",
          "data": {
            "text/plain": [
              "<Figure size 1000x800 with 1 Axes>"
            ],
            "image/png": "[encoded data removed]"
          },
          "metadata": {}
        }
      ]
    },
    {
      "cell_type": "code",
      "source": [
        "nltk.download('stopwords')\n",
        "import re\n",
        "REPLACE_WITH_SPACE = re.compile(\"(@)\")\n",
        "SPACE = \" \"\n",
        "from nltk.corpus import stopwords\n",
        "english_stop_words = stopwords.words('english')\n",
        "from nltk.stem.porter import PorterStemmer\n",
        "#1\n",
        "def reviews(reviews):\n",
        "    reviews = [REPLACE_WITH_SPACE.sub(SPACE, line.lower()) for line in reviews]\n",
        "\n",
        "    return reviews\n",
        "#2\n",
        "def remove_stop_words(corpus):\n",
        "    removed_stop_words = []\n",
        "    for review in corpus:\n",
        "        removed_stop_words.append(\n",
        "            ' '.join([word for word in review.split()  if word not in english_stop_words]))\n",
        "    return removed_stop_words\n",
        "#3\n",
        "def get_stemmed_text(corpus):\n",
        "    stemmer = PorterStemmer()\n",
        "\n",
        "    return [' '.join([stemmer.stem(word) for word in review.split()]) for review in corpus]\n",
        "\n",
        "\n"
      ],
      "metadata": {
        "execution": {
          "iopub.execute_input": "2022-11-04T08:49:25.986447Z",
          "iopub.status.busy": "2022-11-04T08:49:25.985374Z",
          "iopub.status.idle": "2022-11-04T08:49:25.994588Z",
          "shell.execute_reply": "2022-11-04T08:49:25.993562Z",
          "shell.execute_reply.started": "2022-11-04T08:49:25.986405Z"
        },
        "id": "t1Kir_dS-13-",
        "colab": {
          "base_uri": "https://localhost:8080/"
        },
        "outputId": "c9f11244-cb13-4087-bb07-38054bd1bc5c"
      },
      "execution_count": 28,
      "outputs": [
        {
          "output_type": "stream",
          "name": "stderr",
          "text": [
            "[nltk_data] Downloading package stopwords to /root/nltk_data...\n",
            "[nltk_data]   Package stopwords is already up-to-date!\n"
          ]
        }
      ]
    },
    {
      "cell_type": "code",
      "source": [
        "y = data['Sentiment']"
      ],
      "metadata": {
        "execution": {
          "iopub.execute_input": "2022-11-04T08:49:25.997691Z",
          "iopub.status.busy": "2022-11-04T08:49:25.997287Z",
          "iopub.status.idle": "2022-11-04T08:49:26.009398Z",
          "shell.execute_reply": "2022-11-04T08:49:26.008494Z",
          "shell.execute_reply.started": "2022-11-04T08:49:25.997646Z"
        },
        "id": "LEmnEJeP-13_"
      },
      "execution_count": 29,
      "outputs": []
    },
    {
      "cell_type": "code",
      "source": [
        "#1\n",
        "reviewtweet = reviews(x)\n",
        "#2\n",
        "no_stop_words_tweet = remove_stop_words(reviewtweet)\n",
        "#3\n",
        "stemmed_reviews_tweet = get_stemmed_text(no_stop_words_tweet)"
      ],
      "metadata": {
        "execution": {
          "iopub.execute_input": "2022-11-04T08:49:26.011626Z",
          "iopub.status.busy": "2022-11-04T08:49:26.01114Z",
          "iopub.status.idle": "2022-11-04T08:49:29.801977Z",
          "shell.execute_reply": "2022-11-04T08:49:29.800933Z",
          "shell.execute_reply.started": "2022-11-04T08:49:26.011589Z"
        },
        "id": "ABc1Nd6J-13_"
      },
      "execution_count": 30,
      "outputs": []
    },
    {
      "cell_type": "code",
      "source": [
        "stemmed_reviews_tweet[20]"
      ],
      "metadata": {
        "execution": {
          "iopub.execute_input": "2022-11-04T08:49:29.806155Z",
          "iopub.status.busy": "2022-11-04T08:49:29.805831Z",
          "iopub.status.idle": "2022-11-04T08:49:29.816655Z",
          "shell.execute_reply": "2022-11-04T08:49:29.815552Z",
          "shell.execute_reply.started": "2022-11-04T08:49:29.806115Z"
        },
        "id": "kZbcE8Bs-14A",
        "outputId": "88826742-6330-4ce7-a51d-15b391d84fc9",
        "colab": {
          "base_uri": "https://localhost:8080/",
          "height": 35
        }
      },
      "execution_count": 31,
      "outputs": [
        {
          "output_type": "execute_result",
          "data": {
            "text/plain": [
              "'first borderland session long time actual enjoy realli satisfi combat experi . got rather good kill'"
            ],
            "application/vnd.google.colaboratory.intrinsic+json": {
              "type": "string"
            }
          },
          "metadata": {},
          "execution_count": 31
        }
      ]
    },
    {
      "cell_type": "markdown",
      "source": [
        "**Encoding**"
      ],
      "metadata": {
        "id": "ABylhgqG84rG"
      }
    },
    {
      "cell_type": "code",
      "source": [
        "max_words = 8000\n",
        "\n",
        "\n",
        "tokenizer = Tokenizer(\n",
        "    num_words = max_words,\n",
        "    filters = '\"#$%&()*+-/:;<=>@[\\]^_`{|}~'\n",
        ")\n",
        "tokenizer.fit_on_texts(stemmed_reviews_tweet)\n",
        "x = tokenizer.texts_to_sequences(stemmed_reviews_tweet)\n",
        "x = pad_sequences(x, maxlen = 300)\n"
      ],
      "metadata": {
        "execution": {
          "iopub.execute_input": "2022-11-04T08:49:29.818826Z",
          "iopub.status.busy": "2022-11-04T08:49:29.818369Z",
          "iopub.status.idle": "2022-11-04T08:49:32.77643Z",
          "shell.execute_reply": "2022-11-04T08:49:32.775328Z",
          "shell.execute_reply.started": "2022-11-04T08:49:29.818764Z"
        },
        "id": "EG1vTQDD-14A"
      },
      "execution_count": 32,
      "outputs": []
    },
    {
      "cell_type": "code",
      "source": [
        "label_tokenizer = Tokenizer()\n",
        "label_tokenizer.fit_on_texts(y)\n",
        "\n",
        "y = np.array(label_tokenizer.texts_to_sequences(y))\n"
      ],
      "metadata": {
        "execution": {
          "iopub.execute_input": "2022-11-04T08:49:32.779155Z",
          "iopub.status.busy": "2022-11-04T08:49:32.7785Z",
          "iopub.status.idle": "2022-11-04T08:49:33.799467Z",
          "shell.execute_reply": "2022-11-04T08:49:33.798406Z",
          "shell.execute_reply.started": "2022-11-04T08:49:32.779113Z"
        },
        "id": "o1kLlcZe-14B"
      },
      "execution_count": 33,
      "outputs": []
    },
    {
      "cell_type": "markdown",
      "source": [
        "## Model"
      ],
      "metadata": {
        "id": "5iXKfOC-8_Hm"
      }
    },
    {
      "cell_type": "code",
      "source": [
        "from sklearn.model_selection import train_test_split\n",
        "x_train, x_test, y_train, y_test = train_test_split(x, y, train_size = 0.8)"
      ],
      "metadata": {
        "execution": {
          "iopub.execute_input": "2022-11-04T08:49:33.801538Z",
          "iopub.status.busy": "2022-11-04T08:49:33.801146Z",
          "iopub.status.idle": "2022-11-04T08:49:33.84436Z",
          "shell.execute_reply": "2022-11-04T08:49:33.843322Z",
          "shell.execute_reply.started": "2022-11-04T08:49:33.801478Z"
        },
        "id": "M1ac5uyk-14B"
      },
      "execution_count": 34,
      "outputs": []
    },
    {
      "cell_type": "code",
      "source": [
        "model_lstm = Sequential()\n",
        "model_lstm.add(Embedding(input_dim = max_words, output_dim = 128, input_length = 300))\n",
        "model_lstm.add(SpatialDropout1D(0.3))\n",
        "model_lstm.add(LSTM(128, dropout = 0.3, recurrent_dropout = 0.3))\n",
        "model_lstm.add(Dense(128, activation = 'relu'))\n",
        "model_lstm.add(Dropout(0.3))\n",
        "model_lstm.add(Dense(5, activation = 'softmax'))\n",
        "model_lstm.compile(\n",
        "    loss='sparse_categorical_crossentropy',\n",
        "    optimizer='Adam',\n",
        "    metrics=['accuracy']\n",
        ")"
      ],
      "metadata": {
        "execution": {
          "iopub.execute_input": "2022-11-04T08:59:18.424439Z",
          "iopub.status.busy": "2022-11-04T08:59:18.424079Z",
          "iopub.status.idle": "2022-11-04T08:59:18.828131Z",
          "shell.execute_reply": "2022-11-04T08:59:18.827163Z",
          "shell.execute_reply.started": "2022-11-04T08:59:18.424407Z"
        },
        "id": "6gtVKyls-14C"
      },
      "execution_count": 35,
      "outputs": []
    },
    {
      "cell_type": "code",
      "source": [
        "history = model_lstm.fit(\n",
        "    x_train,\n",
        "    y_train,\n",
        "    validation_data=(x_test,y_test) ,\n",
        "    epochs = 5,\n",
        "    batch_size = 1024\n",
        ")\n"
      ],
      "metadata": {
        "execution": {
          "iopub.execute_input": "2022-11-04T08:59:18.830415Z",
          "iopub.status.busy": "2022-11-04T08:59:18.830064Z",
          "iopub.status.idle": "2022-11-04T09:29:25.709007Z",
          "shell.execute_reply": "2022-11-04T09:29:25.707582Z",
          "shell.execute_reply.started": "2022-11-04T08:59:18.830379Z"
        },
        "id": "c6xut99z-14C",
        "outputId": "37858c18-7c79-4300-d81b-c352e329c141",
        "colab": {
          "base_uri": "https://localhost:8080/"
        }
      },
      "execution_count": 38,
      "outputs": [
        {
          "output_type": "stream",
          "name": "stdout",
          "text": [
            "Epoch 1/5\n",
            "56/56 [==============================] - 592s 11s/step - loss: 1.2838 - accuracy: 0.4148 - val_loss: 1.1188 - val_accuracy: 0.5358\n",
            "Epoch 2/5\n",
            "56/56 [==============================] - 568s 10s/step - loss: 0.9924 - accuracy: 0.5980 - val_loss: 0.9175 - val_accuracy: 0.6333\n",
            "Epoch 3/5\n",
            "56/56 [==============================] - 570s 10s/step - loss: 0.8059 - accuracy: 0.6892 - val_loss: 0.7847 - val_accuracy: 0.6962\n",
            "Epoch 4/5\n",
            "56/56 [==============================] - 572s 10s/step - loss: 0.6742 - accuracy: 0.7455 - val_loss: 0.7069 - val_accuracy: 0.7310\n",
            "Epoch 5/5\n",
            "56/56 [==============================] - 584s 10s/step - loss: 0.5974 - accuracy: 0.7749 - val_loss: 0.6682 - val_accuracy: 0.7492\n"
          ]
        }
      ]
    },
    {
      "cell_type": "code",
      "source": [
        "model_lstm.summary()\n"
      ],
      "metadata": {
        "id": "Hek35EJS-14D",
        "outputId": "66f504e4-619d-471a-a7f2-e94927f53d17",
        "colab": {
          "base_uri": "https://localhost:8080/"
        }
      },
      "execution_count": 39,
      "outputs": [
        {
          "output_type": "stream",
          "name": "stdout",
          "text": [
            "Model: \"sequential\"\n",
            "_________________________________________________________________\n",
            " Layer (type)                Output Shape              Param #   \n",
            "=================================================================\n",
            " embedding (Embedding)       (None, 300, 128)          1024000   \n",
            "                                                                 \n",
            " spatial_dropout1d (Spatial  (None, 300, 128)          0         \n",
            " Dropout1D)                                                      \n",
            "                                                                 \n",
            " lstm (LSTM)                 (None, 128)               131584    \n",
            "                                                                 \n",
            " dense (Dense)               (None, 128)               16512     \n",
            "                                                                 \n",
            " dropout (Dropout)           (None, 128)               0         \n",
            "                                                                 \n",
            " dense_1 (Dense)             (None, 5)                 645       \n",
            "                                                                 \n",
            "=================================================================\n",
            "Total params: 1172741 (4.47 MB)\n",
            "Trainable params: 1172741 (4.47 MB)\n",
            "Non-trainable params: 0 (0.00 Byte)\n",
            "_________________________________________________________________\n"
          ]
        }
      ]
    },
    {
      "cell_type": "code",
      "source": [
        "plt.figure(1)\n",
        "plt.plot(history.history['loss'])\n",
        "plt.plot(history.history['val_loss'])\n",
        "plt.legend(['training','validation'])\n",
        "plt.title('Loss')\n",
        "plt.xlabel('epoch')\n",
        "plt.figure(2)\n",
        "plt.plot(history.history['accuracy'])\n",
        "plt.plot(history.history['val_accuracy'])\n",
        "plt.legend(['training','validation'])\n",
        "plt.title('Accuracy')\n",
        "plt.xlabel('epoch')\n",
        "plt.show()"
      ],
      "metadata": {
        "id": "EWLvCGZX-14D",
        "outputId": "a414b9ed-4853-441b-b5cf-c9562d6e286c",
        "colab": {
          "base_uri": "https://localhost:8080/",
          "height": 927
        }
      },
      "execution_count": 40,
      "outputs": [
        {
          "output_type": "display_data",
          "data": {
            "text/plain": [
              "<Figure size 640x480 with 1 Axes>"
            ],
            "image/png": "[encoded data removed]"
          },
          "metadata": {}
        },
        {
          "output_type": "display_data",
          "data": {
            "text/plain": [
              "<Figure size 640x480 with 1 Axes>"
            ],
            "image/png": "[encoded data removed]"
          },
          "metadata": {}
        }
      ]
    }
  ]
}